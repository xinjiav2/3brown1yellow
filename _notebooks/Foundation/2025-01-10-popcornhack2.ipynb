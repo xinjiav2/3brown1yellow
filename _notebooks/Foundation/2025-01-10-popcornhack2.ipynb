{
 "cells": [
  {
   "cell_type": "markdown",
   "metadata": {},
   "source": [
    "```yaml\n",
    "\n",
    "---\n",
    "layout: post\n",
    "title: Popcorn hacks two\n",
    "description: claswork\n",
    "type: issues \n",
    "comments: true\n",
    "---"
   ]
  },
  {
   "cell_type": "markdown",
   "metadata": {},
   "source": [
    "\n",
    "\n",
    "\n",
    "\n",
    "Popcorn Hack #2\n",
    "<br>\n",
    "Create a length of a list and print it in console.log()\n",
    "\n",
    "<br>\n",
    "Create a variable called \"list\" or \"my_list_2\"\n",
    "<br>\n",
    "Create a list of numbers or words in the brackets [] Exp: let your_list = [3, 7, 9, 21];\n",
    "<br>\n",
    "Create a const length = your_list.length;\n",
    "<br>\n",
    "After all of that, finally print it out in console.log() Exp: console.log(your_list);\n",
    "<br>\n",
    "\n"
   ]
  },
  {
   "cell_type": "code",
   "execution_count": null,
   "metadata": {
    "vscode": {
     "languageId": "javascript"
    }
   },
   "outputs": [],
   "source": [
    "%%js   \n",
    "\n",
    "\n",
    "let \" \" = []; // create an variable \n",
    "\n",
    "\n",
    "const length = \"\".length; // create a const length\n",
    "\n",
    "\n",
    "console.log(\"\"); // print out your list in console\n"
   ]
  }
 ],
 "metadata": {
  "language_info": {
   "name": "python"
  }
 },
 "nbformat": 4,
 "nbformat_minor": 2
}
