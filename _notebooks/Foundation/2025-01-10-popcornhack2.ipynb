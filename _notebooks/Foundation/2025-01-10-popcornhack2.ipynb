{
 "cells": [
  {
   "cell_type": "markdown",
   "metadata": {},
   "source": [
    "---\n",
    "layout: page\n",
    "title: Popcorn Hacks Two\n",
    "permalink: /pch3/\n",
    "---\n",
    "\n",
    "\n",
    "\n",
    "Popcorn Hack #2\n",
    "<br>\n",
    "Create a length of a list and print it in console.log()\n",
    "\n",
    "<br>\n",
    "Create a variable called \"list\" or \"my_list_2\"\n",
    "<br>\n",
    "Create a list of numbers or words in the brackets [] Exp: let your_list = [3, 7, 9, 21];\n",
    "<br>\n",
    "Create a const length = your_list.length;\n",
    "<br>\n",
    "After all of that, finally print it out in console.log() Exp: console.log(your_list);\n",
    "<br>\n",
    "%%js   \n",
    "<br>\n",
    "\n",
    "let \" \" = []; // create an variable \n",
    "<br>\n",
    "\n",
    "const length = \"\".length; // create a const length\n",
    "<br>\n",
    "\n",
    "console.log(\"\"); // print out your list in console\n",
    "<br>\n"
   ]
  }
 ],
 "metadata": {
  "language_info": {
   "name": "python"
  }
 },
 "nbformat": 4,
 "nbformat_minor": 2
}
