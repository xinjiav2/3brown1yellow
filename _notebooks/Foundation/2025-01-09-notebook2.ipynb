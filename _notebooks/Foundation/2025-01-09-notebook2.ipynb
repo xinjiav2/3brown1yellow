{
 "cells": [
  {
   "cell_type": "markdown",
   "metadata": {},
   "source": [
    "```yaml\n",
    "\n",
    "---\n",
    "layout: post\n",
    "title: Jupyter notebook two\n",
    "description: Assigning arrays\n",
    "type: issues \n",
    "comments: true\n",
    "---\n"
   ]
  },
  {
   "cell_type": "markdown",
   "metadata": {},
   "source": [
    "Length of a List\n",
    "In JavaScript, the length of a list (also known as an array) refers to the number of elements it contains. It can be accessed using the (.length) property, which shows the total number of elements in the array.\n",
    "\n",
    "Javascript Example:\n",
    "Words Example:"
   ]
  },
  {
   "cell_type": "code",
   "execution_count": null,
   "metadata": {
    "vscode": {
     "languageId": "javascript"
    }
   },
   "outputs": [],
   "source": [
    "\n",
    "%%html\n",
    "\n",
    "<!DOCTYPE html>\n",
    "<html lang=\"en\">\n",
    "<head>\n",
    "    <meta charset=\"UTF-8\">\n",
    "    <meta name=\"viewport\" content=\"width=device-width, initial-scale=1.0\">\n",
    "    <title>Display List</title>\n",
    "</head>\n",
    "<body>\n",
    "\n",
    "    <h1>List of Cats</h1>\n",
    "\n",
    "    <!-- This is where the list will be displayed -->\n",
    "    <div id=\"cat-list\"></div>\n",
    "\n",
    "    <script>\n",
    "        // The list that will display\n",
    "        let my_list = ['cat0', 'cat1', 'cat2', 'cat3'];\n",
    "\n",
    "        // Calculate the length of the list\n",
    "        const length = my_list.length;\n",
    "\n",
    "        document.getElementById('cat-list').innerHTML = `\n",
    "            <p>List of cats: ${my_list.join(', ')}</p>\n",
    "            <p>Length of the list: ${length}</p>\n",
    "        `;\n",
    "    </script>\n",
    "\n",
    "</body>\n",
    "</html>"
   ]
  },
  {
   "cell_type": "markdown",
   "metadata": {},
   "source": [
    "Display List\n",
    "List of Cats\n",
    "Number Example:"
   ]
  },
  {
   "cell_type": "code",
   "execution_count": null,
   "metadata": {
    "vscode": {
     "languageId": "javascript"
    }
   },
   "outputs": [],
   "source": [
    "%%js\n",
    "\n",
    "let my_list = [2, 4, 6, 8, 10];//These are the #s that will be shown on the list\n",
    "const length = my_list.length; //length will be 5\n",
    "console.log(my_list);//This will show the given list "
   ]
  },
  {
   "cell_type": "markdown",
   "metadata": {},
   "source": [
    "\n",
    "Finding the Minimum Value:\n",
    "You can use Math.min() to help you find the minimum value in an array."
   ]
  },
  {
   "cell_type": "code",
   "execution_count": null,
   "metadata": {
    "vscode": {
     "languageId": "javascript"
    }
   },
   "outputs": [],
   "source": [
    "%%js\n",
    "let numbers = [5, 8, 2, 1, 9];\n",
    "let minValue = Math.min(...numbers);  // Spread operator to pass elements as arguments\n",
    "console.log(minValue);  // Output: 1"
   ]
  },
  {
   "cell_type": "markdown",
   "metadata": {},
   "source": [
    "Finding an Element in an Array:\n",
    "To see if an element exists in an array you can use Array.prototype.includes()"
   ]
  },
  {
   "cell_type": "code",
   "execution_count": null,
   "metadata": {
    "vscode": {
     "languageId": "javascript"
    }
   },
   "outputs": [],
   "source": [
    "%%js \n",
    "let fishes = ['fish0', 'fish1', 'fish2'];\n",
    "let hasfish0 = fishes.includes('fish0');  // Check if 'fish0' is in the array\n",
    "console.log(hasfish0);  // Output: true"
   ]
  }
 ],
 "metadata": {
  "language_info": {
   "name": "python"
  }
 },
 "nbformat": 4,
 "nbformat_minor": 2
}
