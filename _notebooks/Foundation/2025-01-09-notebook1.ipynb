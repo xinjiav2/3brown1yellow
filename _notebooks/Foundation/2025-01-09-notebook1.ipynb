{
 "cells": [
  {
   "cell_type": "markdown",
   "metadata": {},
   "source": [
    "```yaml\n",
    "\n",
    "---\n",
    "layout: post\n",
    "title: Jupyter notebook one\n",
    "description: Creating and deleting arrays\n",
    "type: issues \n",
    "comments: true\n",
    "---"
   ]
  },
  {
   "cell_type": "markdown",
   "metadata": {},
   "source": [
    "Hi there!\n",
    "Today, we'll be teaching you all about arrays!!\n",
    "\n",
    "Arrays are variables that store a list of elements. In our example, we will have the list of the numbers 1-5.\n",
    "\n",
    "We create it like so:\n",
    "\n"
   ]
  },
  {
   "cell_type": "code",
   "execution_count": 1,
   "metadata": {
    "vscode": {
     "languageId": "javascript"
    }
   },
   "outputs": [
    {
     "data": {
      "application/javascript": "\nlet list = [1, 2, 3, 4, 5];\n//When we refer to an element in our array, we start with list[0].\n//In this case:\n\nlist[0] = 1\nlist[1] = 2\nlist[2] = 3, etc.\n\n",
      "text/plain": [
       "<IPython.core.display.Javascript object>"
      ]
     },
     "metadata": {},
     "output_type": "display_data"
    }
   ],
   "source": [
    "%%js\n",
    "\n",
    "let list = [1, 2, 3, 4, 5];\n",
    "//When we refer to an element in our array, we start with list[0].\n",
    "//In this case:\n",
    "\n",
    "list[0] = 1\n",
    "list[1] = 2\n",
    "list[2] = 3, etc.\n",
    "\n"
   ]
  },
  {
   "cell_type": "markdown",
   "metadata": {},
   "source": [
    "---\n",
    "layout: page\n",
    "title: Jupyter Notebook\n",
    "permalink: /jn1/\n",
    "---\n",
    "\n",
    "\n"
   ]
  },
  {
   "cell_type": "markdown",
   "metadata": {},
   "source": [
    "\n",
    "We can output any element from our list using the console.log function.\n",
    "For example:\n",
    "\n",
    "\n"
   ]
  },
  {
   "cell_type": "code",
   "execution_count": 2,
   "metadata": {
    "vscode": {
     "languageId": "javascript"
    }
   },
   "outputs": [
    {
     "data": {
      "application/javascript": "\nlet list2 = [1, 2, 3, 4, 5];\n\nconsole.log(list2[0]); //prints 1 as it is the first element in the array\nconsole.log(list2[1]); //prints 2\nconsole.log(list2[2]); //prints 3\nconsole.log(list2[3]); //prints 4\nconsole.log(list2[4]); //prints 5\n\n\n",
      "text/plain": [
       "<IPython.core.display.Javascript object>"
      ]
     },
     "metadata": {},
     "output_type": "display_data"
    }
   ],
   "source": [
    "%%js\n",
    "\n",
    "let list2 = [1, 2, 3, 4, 5];\n",
    "\n",
    "console.log(list2[0]); //prints 1 as it is the first element in the array\n",
    "console.log(list2[1]); //prints 2\n",
    "console.log(list2[2]); //prints 3\n",
    "console.log(list2[3]); //prints 4\n",
    "console.log(list2[4]); //prints 5\n",
    "\n",
    "\n"
   ]
  },
  {
   "cell_type": "markdown",
   "metadata": {},
   "source": [
    "To delete elements, we can use the pop() or splice() functions:\n",
    "\n",
    "pop() removes the last element of an array.\n",
    "splice(index, count) removes an element at a specified index. The count parameter tells how many elements to remove.\n",
    "\n"
   ]
  },
  {
   "cell_type": "code",
   "execution_count": 3,
   "metadata": {
    "vscode": {
     "languageId": "javascript"
    }
   },
   "outputs": [
    {
     "data": {
      "application/javascript": "\nlet list3 = [1, 2, 3, 4, 5];\n\nlist3.pop(); //deletes the last value (5) in the list\nconsole.log(list3); //[1, 2, 3, 4]\n\nlist3.splice(3, 1); //deletes the 4th element (index 3), which is 4\nconsole.log(list3); //[1, 2, 3]\n\n",
      "text/plain": [
       "<IPython.core.display.Javascript object>"
      ]
     },
     "metadata": {},
     "output_type": "display_data"
    }
   ],
   "source": [
    "%%js\n",
    "\n",
    "let list3 = [1, 2, 3, 4, 5];\n",
    "\n",
    "list3.pop(); //deletes the last value (5) in the list\n",
    "console.log(list3); //[1, 2, 3, 4]\n",
    "\n",
    "list3.splice(3, 1); //deletes the 4th element (index 3), which is 4\n",
    "console.log(list3); //[1, 2, 3]\n",
    "\n"
   ]
  },
  {
   "cell_type": "markdown",
   "metadata": {},
   "source": [
    "We can also update or assign values to elements in an array.\n",
    "\n",
    "For example:\n",
    "\n"
   ]
  },
  {
   "cell_type": "code",
   "execution_count": 4,
   "metadata": {
    "vscode": {
     "languageId": "javascript"
    }
   },
   "outputs": [
    {
     "data": {
      "application/javascript": "\nlet list4 = [1, 2, 3, 4, 5];\n\nlist4[2] = 6; //changes the value at index 2 from 3 to 6\nconsole.log(list4); // [1, 2, 6, 4, 5]\n//To add values to an array, we use the push() function.\n//Here’s how we can add elements:\n\nlet list5 = []; //creates an empty list\n\nlist5.push(1);\nlist5.push(2);\nlist5.push(3);\n\nconsole.log(list5); // [1, 2, 3]\n",
      "text/plain": [
       "<IPython.core.display.Javascript object>"
      ]
     },
     "metadata": {},
     "output_type": "display_data"
    }
   ],
   "source": [
    "%%js\n",
    "\n",
    "let list4 = [1, 2, 3, 4, 5];\n",
    "\n",
    "list4[2] = 6; //changes the value at index 2 from 3 to 6\n",
    "console.log(list4); // [1, 2, 6, 4, 5]\n",
    "//To add values to an array, we use the push() function.\n",
    "//Here’s how we can add elements:\n",
    "\n",
    "let list5 = []; //creates an empty list\n",
    "\n",
    "list5.push(1);\n",
    "list5.push(2);\n",
    "list5.push(3);\n",
    "\n",
    "console.log(list5); // [1, 2, 3]"
   ]
  }
 ],
 "metadata": {
  "kernelspec": {
   "display_name": "venv",
   "language": "python",
   "name": "python3"
  },
  "language_info": {
   "codemirror_mode": {
    "name": "ipython",
    "version": 3
   },
   "file_extension": ".py",
   "mimetype": "text/x-python",
   "name": "python",
   "nbconvert_exporter": "python",
   "pygments_lexer": "ipython3",
   "version": "3.13.1"
  }
 },
 "nbformat": 4,
 "nbformat_minor": 2
}
