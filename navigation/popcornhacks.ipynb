{
 "cells": [
  {
   "cell_type": "markdown",
   "metadata": {},
   "source": [
    "\n",
    "Task:\n",
    "\n",
    "create a list [1,2,3,'delete1','delete2']\n",
    "\n",
    "Delete the term 'delete1' first, then delete the term 'delete2.'\n",
    "\n",
    "Then, change the numbers to different foods of choice.\n",
    "\n",
    "Next, add 2 more foods of choice.\n",
    "\n",
    "Finally, change one of the foods to a drink.\n",
    "\n",
    "You should finish with 5 foods in your list; print every item one at a time."
   ]
  }
 ],
 "metadata": {
  "language_info": {
   "name": "python"
  }
 },
 "nbformat": 4,
 "nbformat_minor": 2
}
