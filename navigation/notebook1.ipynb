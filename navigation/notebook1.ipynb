{
 "cells": [
  {
   "cell_type": "markdown",
   "metadata": {},
   "source": [
    "Hi there!\n",
    "Today, we'll be teaching you all about arrays!!\n",
    "\n",
    "Arrays are variables that store a list of elements. In our example, we will have the list of the numbers 1-5.\n",
    "\n",
    "We create it like so:\n",
    "\n"
   ]
  },
  {
   "cell_type": "code",
   "execution_count": null,
   "metadata": {},
   "outputs": [],
   "source": [
    "%%javascript\n",
    "let list = [1, 2, 3, 4, 5];\n",
    "When we refer to an element in our array, we start with list[0].\n",
    "In this case:\n",
    "\n",
    "list[0] = 1\n",
    "list[1] = 2\n",
    "list[2] = 3, etc.\n",
    "\n"
   ]
  },
  {
   "cell_type": "markdown",
   "metadata": {},
   "source": [
    "\n",
    "We can output any element from our list using the console.log function.\n",
    "For example:\n",
    "\n",
    "\n"
   ]
  },
  {
   "cell_type": "code",
   "execution_count": null,
   "metadata": {},
   "outputs": [],
   "source": [
    "%%javascript\n",
    "let list2 = [1, 2, 3, 4, 5];\n",
    "\n",
    "console.log(list2[0]); // prints 1 as it is the first element in the array\n",
    "console.log(list2[1]); // prints 2\n",
    "console.log(list2[2]); // prints 3\n",
    "console.log(list2[3]); // prints 4\n",
    "console.log(list2[4]); // prints 5\n",
    "\n",
    "\n"
   ]
  },
  {
   "cell_type": "markdown",
   "metadata": {},
   "source": [
    "To delete elements, we can use the pop() or splice() functions:\n",
    "\n",
    "pop() removes the last element of an array.\n",
    "splice(index, count) removes an element at a specified index. The count parameter tells how many elements to remove.\n",
    "\n"
   ]
  },
  {
   "cell_type": "code",
   "execution_count": null,
   "metadata": {},
   "outputs": [],
   "source": [
    "%%javascript\n",
    "let list3 = [1, 2, 3, 4, 5];\n",
    "\n",
    "list3.pop(); // deletes the last value (5) in the list\n",
    "console.log(list3); // [1, 2, 3, 4]\n",
    "\n",
    "list3.splice(3, 1); // deletes the 4th element (index 3), which is 4\n",
    "console.log(list3); // [1, 2, 3]\n",
    "\n"
   ]
  },
  {
   "cell_type": "markdown",
   "metadata": {},
   "source": [
    "We can also update or assign values to elements in an array.\n",
    "\n",
    "For example:\n",
    "\n"
   ]
  },
  {
   "cell_type": "code",
   "execution_count": null,
   "metadata": {},
   "outputs": [],
   "source": [
    "%%javascript\n",
    "let list4 = [1, 2, 3, 4, 5];\n",
    "\n",
    "list4[2] = 6; // changes the value at index 2 from 3 to 6\n",
    "console.log(list4); // [1, 2, 6, 4, 5]\n",
    "To add values to an array, we use the push() function.\n",
    "Here’s how we can add elements:\n",
    "\n",
    "%%javascript\n",
    "let list5 = []; // creates an empty list\n",
    "\n",
    "list5.push(1);\n",
    "list5.push(2);\n",
    "list5.push(3);\n",
    "\n",
    "console.log(list5); // [1, 2, 3]"
   ]
  }
 ],
 "metadata": {
  "language_info": {
   "name": "python"
  }
 },
 "nbformat": 4,
 "nbformat_minor": 2
}
